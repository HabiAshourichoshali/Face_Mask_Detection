{
 "cells": [
  {
   "cell_type": "markdown",
   "metadata": {
    "id": "Jq0Ww12jEgm6"
   },
   "source": [
    "# Face Mask Detection – MLP Baseline\n",
    "\n",
    "This notebook implements a baseline mask detection model using a **Multi-Layer Perceptron (MLP)**. It serves as a classical machine learning benchmark to compare against deep learning models trained with transfer learning."
   ]
  },
  {
   "cell_type": "code",
   "execution_count": null,
   "metadata": {
    "id": "8dnRbpbmAJoQ"
   },
   "outputs": [],
   "source": [
    "import numpy as np \n",
    "import pandas as pd \n",
    "import os\n",
    "import matplotlib.pyplot as plt\n",
    "import cv2\n",
    "import matplotlib.patches as patches\n",
    "from tqdm import tqdm\n",
    "\n",
    "# If running in Google Colab, uncomment these lines to mount your Google Drive\n",
    "# from google.colab import drive\n",
    "# drive.mount('/content/drive')"
   ]
  },
  {
   "cell_type": "markdown",
   "metadata": {
    "id": "zggC55zbkz-c"
   },
   "source": [
    "## Prepare Train Data:"
   ]
  },
  {
   "cell_type": "code",
   "execution_count": null,
   "metadata": {
    "id": "Ax8Gu-i7pnhc"
   },
   "outputs": [],
   "source": [
    "# update the directories as needed\n",
    "images = os.path.join(\"./drive/My Drive/Colab Notebooks/images\")\n",
    "labels = os.path.join(\"./drive/My Drive/Colab Notebooks/labels\")\n",
    "train_images = os.listdir(images + \"/train\")\n",
    "train_labels = os.listdir(labels + \"/train\")\n",
    "train_images.sort()\n",
    "train_labels.sort()"
   ]
  },
  {
   "cell_type": "code",
   "execution_count": null,
   "metadata": {
    "id": "PgjifkTGnMoM"
   },
   "outputs": [],
   "source": [
    "f = open(\"./drive/My Drive/Colab Notebooks/labels/train/\" + train_labels[0], \"r+\")"
   ]
  },
  {
   "cell_type": "code",
   "execution_count": null,
   "metadata": {
    "id": "RkvARSplv92Z"
   },
   "outputs": [],
   "source": [
    "# construct dataframe with annotations \n",
    "data_ls = []\n",
    "for train_label, train_image in tqdm(zip(train_labels, train_images)):\n",
    "    f = open(\"./drive/My Drive/Colab Notebooks/labels/train/\" + train_label, \"r+\")\n",
    "    data_ls.append([train_label] + [train_image] + [float(x) for x in (f.read().replace(\"\\n\", \"\")).split(\" \")])"
   ]
  },
  {
   "cell_type": "markdown",
   "metadata": {
    "id": "t6TBWFZ1pEzv"
   },
   "source": [
    "Some of the images has more than one box.\n",
    "Here we want to do image classification as opposed to sentiment segmentation, therefore we filter out images that have more than one box:"
   ]
  },
  {
   "cell_type": "code",
   "execution_count": null,
   "metadata": {
    "colab": {
     "base_uri": "https://localhost:8080/"
    },
    "id": "pkIYSKniuyzr",
    "outputId": "dbf40043-1b66-438d-d9bd-dd5244a1b895"
   },
   "outputs": [],
   "source": [
    "data_ls_onebox = list(filter(lambda x: len(x) == 7, data_ls))"
   ]
  },
  {
   "cell_type": "code",
   "execution_count": null,
   "metadata": {
    "colab": {
     "base_uri": "https://localhost:8080/"
    },
    "id": "_5m5U0Gkv92a",
    "outputId": "a0612b4a-b28b-4ff1-981e-008af5a3790c"
   },
   "outputs": [
    {
     "name": "stdout",
     "output_type": "stream",
     "text": [
      "[1 0]\n",
      "['face_no_mask' 'face_with_mask']\n"
     ]
    }
   ],
   "source": [
    "train = pd.DataFrame(data_ls_onebox, columns = ['labelname', 'imagename', 'classname', 'x1', 'x2', 'y1', 'y2']) # Make a dataframe\n",
    "train = train[['labelname', 'imagename', 'x1', 'x2', 'y1', 'y2', 'classname']] # Re-order the columns\n",
    "train.classname = train.classname.astype(int) # Change the classname column to integer type\n",
    "print(pd.unique(train.classname))\n",
    "train.classname = train.classname.apply(lambda x: 'face_with_mask' if x == 0 else 'face_no_mask') # Change the classname column to face_with_mask and face_no_mask\n",
    "print(pd.unique(train.classname))\n",
    "train.sort_values(by='labelname', axis=0, inplace=True) # Sort rows by the value in the \"name\" column"
   ]
  },
  {
   "cell_type": "code",
   "execution_count": null,
   "metadata": {
    "colab": {
     "base_uri": "https://localhost:8080/",
     "height": 286
    },
    "id": "gjR3XBBuKB20",
    "outputId": "fb495088-52b7-4d7c-8bde-6ea9c01c6f25"
   },
   "outputs": [],
   "source": [
    "print(\"Example Training Image\")\n",
    "img = plt.imread(os.path.join(images, \"train\", train_images[2]))\n",
    "plt.imshow(img)"
   ]
  },
  {
   "cell_type": "code",
   "execution_count": null,
   "metadata": {
    "id": "bzIYRvlA7R_V"
   },
   "outputs": [],
   "source": [
    "# Extracts images and places the information into a list (data) of 50x50 pixel images\n",
    "#Preserve aspect ratio?\n",
    "img_size = 50\n",
    "data = []\n",
    "def create_data():\n",
    "       for [labelname, imagename, classname, x1, x2, y1, y2] in tqdm(data_ls_onebox):\n",
    "            path_to_label = os.path.join(labels, \"train\", labelname)\n",
    "            path_to_image = os.path.join(images, \"train\", imagename)\n",
    "            img_array = cv2.imread(path_to_image, cv2.IMREAD_GRAYSCALE) # reads in the image and converts it to greyscale\n",
    "            # crops the image to only include the face\n",
    "            # crop_image = img_array[arr[2]:arr[4],arr[1]:arr[3]]\n",
    "            # print(\"crop_image =\", crop_image)\n",
    "            new_img_array = cv2.resize(img_array, (img_size, img_size)) # resizes the image to 50x50\n",
    "            data.append([new_img_array, int(classname)])\n",
    "create_data() "
   ]
  },
  {
   "cell_type": "code",
   "execution_count": null,
   "metadata": {
    "id": "HAGeUWFm1TQL"
   },
   "outputs": [],
   "source": [
    "import torch\n",
    "import numpy as np\n",
    "from torch.utils.data import TensorDataset, DataLoader\n",
    "\n",
    "my_x = [data[_][0] for _ in range(len(data))]\n",
    "my_y = [data[_][1] for _ in range(len(data))]\n",
    "\n",
    "tensor_x = torch.Tensor(my_x) # transform to torch tensor\n",
    "tensor_y = torch.Tensor(my_y)\n",
    "tensor_y = tensor_y.type(torch.LongTensor)\n",
    "\n",
    "my_dataset = TensorDataset(tensor_x, tensor_y) # create your datset\n",
    "trainloader = DataLoader(my_dataset, batch_size=64, shuffle=True) # create your dataloader"
   ]
  },
  {
   "cell_type": "markdown",
   "metadata": {
    "id": "faAkms_Dk_6g"
   },
   "source": [
    "## Prepare Test Data"
   ]
  },
  {
   "cell_type": "code",
   "execution_count": null,
   "metadata": {
    "id": "MNmWp1dtqA3y"
   },
   "outputs": [],
   "source": [
    "images = os.path.join(\"./drive/My Drive/Colab Notebooks/images\")\n",
    "annotations = os.path.join(\"./drive/My Drive/Colab Notebooks/labels\")\n",
    "a_test = os.listdir(images+\"/valid\")\n",
    "b_test = os.listdir(annotations+\"/valid\")\n",
    "a_test.sort()\n",
    "b_test.sort()\n",
    "test_images = a_test\n",
    "test_lables = b_test"
   ]
  },
  {
   "cell_type": "code",
   "execution_count": null,
   "metadata": {
    "id": "2RrIqwY5lLar"
   },
   "outputs": [],
   "source": [
    "# TODO: construct dataframe with annotations \n",
    "data_ls = []\n",
    "for i in tqdm(range(min(len(test_images), len(test_lables)))):\n",
    "    f = open(\"./drive/My Drive/Colab Notebooks/labels/valid/\"+test_lables[i],\"r+\")\n",
    "    data_ls.append(([test_lables[i].split(\"/\")[-1]]+\n",
    "                    [float(x) for x in (f.read().replace(\"\\n\",\"\")).split(\" \")]))"
   ]
  },
  {
   "cell_type": "code",
   "execution_count": null,
   "metadata": {
    "colab": {
     "base_uri": "https://localhost:8080/"
    },
    "id": "530mALZAlh7F",
    "outputId": "ea0fc403-74a6-455d-a265-31c02b0bd8d3"
   },
   "outputs": [],
   "source": [
    "#Some images have more than one box, here we only select the photos with one box\n",
    "data_ls_onebox = []\n",
    "print(\"data_ls =\", data_ls)\n",
    "print(len(data_ls))\n",
    "for i in range(min(len(test_images), len(test_lables))):\n",
    "  if len(data_ls[i]) == 6:\n",
    "    data_ls_onebox.append(data_ls[i])"
   ]
  },
  {
   "cell_type": "code",
   "execution_count": null,
   "metadata": {
    "id": "rpTvMyntlntk"
   },
   "outputs": [],
   "source": [
    "test = pd.DataFrame(data_ls_onebox, columns = [\"name\",'classname','x1','x2','y1','y2'])\n",
    "test = test[[\"name\",'x1','x2','y1','y2','classname']]\n",
    "test.classname = test.classname.astype(int)\n",
    "\n",
    "def convert_class_name(x):\n",
    "    # 1 indicates no mask\n",
    "    # 0 indicates mask\n",
    "    if x == 1:\n",
    "        return 'face_no_mask'\n",
    "    if x == 0:\n",
    "        return 'face_with_mask'\n",
    "\n",
    "test.classname = test.classname.apply(lambda x: convert_class_name(x))"
   ]
  },
  {
   "cell_type": "code",
   "execution_count": null,
   "metadata": {
    "id": "p6tMd0KQmCu8"
   },
   "outputs": [],
   "source": [
    "options = ['face_with_mask', 'face_no_mask']\n",
    "test = test[test['classname'].isin(options)] # TODO: removes other options, may not want to do this because removes some feature data that could be useful\n",
    "test.sort_values('name', axis=0, inplace=True)\n",
    "\n",
    "display(test)"
   ]
  },
  {
   "cell_type": "code",
   "execution_count": null,
   "metadata": {
    "colab": {
     "base_uri": "https://localhost:8080/",
     "height": 286
    },
    "id": "KFdH1rslmHLN",
    "outputId": "382b2e4a-5c3c-4c37-a8c4-7a58843a6b59"
   },
   "outputs": [],
   "source": [
    "print(\"Example Test Image\")\n",
    "images = os.path.join(\"./drive/My Drive/Colab Notebooks/images\")\n",
    "testimages_path = images + \"/valid\"\n",
    "img = plt.imread(os.path.join(testimages_path, test_images[2]))\n",
    "plt.imshow(img)"
   ]
  },
  {
   "cell_type": "code",
   "execution_count": null,
   "metadata": {
    "id": "y_QBlPK2mOMm"
   },
   "outputs": [],
   "source": [
    "# Extracts images and places the information into a list (data) of 50x50 pixel images\n",
    "#Preserve aspect ratio?\n",
    "img_size = 50\n",
    "data = []\n",
    "def create_data():\n",
    "       for i in tqdm(range(len(test))):\n",
    "            # arr=[]\n",
    "            # for j in train.iloc[i]:\n",
    "            #        arr.append(j)\n",
    "            # print(\"arr =\", arr)\n",
    "            # reads in the image and converts it to greyscale\n",
    "            path = os.path.join(images, \"valid\")\n",
    "            path_to_label = os.path.join(path, test.iloc[i][\"name\"])\n",
    "            path_to_image = os.path.join(testimages_path, test_images[i])\n",
    "            # print(\"path to label =\", path_to_label)\n",
    "            # print(\"path to image =\", path_to_image)\n",
    "            # img=plt.imread(path_to_image)\n",
    "            # plt.imshow(img)\n",
    "            # plt.show()\n",
    "            img_array = cv2.imread(path_to_image, cv2.IMREAD_GRAYSCALE)\n",
    "            # crops the image to only include the face\n",
    "            # crop_image = img_array[arr[2]:arr[4],arr[1]:arr[3]]\n",
    "            # print(\"crop_image =\", crop_image)\n",
    "            # resizes the image to 50x50\n",
    "            new_img_array = cv2.resize(img_array, (img_size, img_size))\n",
    "            data.append([new_img_array, test.iloc[i][\"classname\"]])\n",
    "create_data() "
   ]
  },
  {
   "cell_type": "code",
   "execution_count": null,
   "metadata": {
    "id": "eiNfxUazmSHe"
   },
   "outputs": [],
   "source": [
    "import torch\n",
    "import numpy as np\n",
    "from torch.utils.data import TensorDataset, DataLoader\n",
    "\n",
    "my_x = [data[_][0] for _ in range(len(data))]\n",
    "my_y = [int(1) if data[_][1] == \"face_no_mask\" else int(0) for _ in range(len(data))]\n",
    "\n",
    "tensor_x = torch.Tensor(my_x) # transform to torch tensor\n",
    "tensor_y = torch.Tensor(my_y)\n",
    "tensor_y = tensor_y.type(torch.LongTensor)\n",
    "\n",
    "my_dataset = TensorDataset(tensor_x, tensor_y) # create your datset\n",
    "testloader = DataLoader(my_dataset, batch_size=1, shuffle=False) # create your dataloader"
   ]
  },
  {
   "cell_type": "markdown",
   "metadata": {
    "id": "HFS65b7bmUK5"
   },
   "source": [
    "## MLP model training and evaluation:"
   ]
  },
  {
   "cell_type": "code",
   "execution_count": null,
   "metadata": {
    "id": "ploWWsIu2ALh"
   },
   "outputs": [],
   "source": [
    "for images, labels in trainloader:\n",
    "  print(\"images =\", images)\n",
    "  print(\"labels =\", labels)\n",
    "  break"
   ]
  },
  {
   "cell_type": "code",
   "execution_count": null,
   "metadata": {
    "id": "oTyqki5J2Mfr"
   },
   "outputs": [],
   "source": [
    "# Build a feed-forward network\n",
    "from torch import nn\n",
    "model = nn.Sequential(nn.Linear(2500, 1024),\n",
    "                      nn.Tanh(),\n",
    "                      nn.Linear(1024, 512),\n",
    "                      nn.Tanh(),\n",
    "                      nn.Linear(512, 64),\n",
    "                      nn.Tanh(),\n",
    "                      nn.Linear(64, 2),\n",
    "                      nn.LogSoftmax(dim=1))\n",
    "\n",
    "criterion = nn.NLLLoss()\n",
    "optimizer = torch.optim.SGD(model.parameters(), lr=0.003)\n",
    "\n",
    "epochs = 4000\n",
    "losses = []\n",
    "for e in tqdm(range(epochs)):\n",
    "    running_loss = 0\n",
    "    for images, labels in trainloader:\n",
    "        # Flatten MNIST images into a 2500 long vector\n",
    "        images = images.view(images.shape[0], -1)\n",
    "    \n",
    "        # TODO: Training pass\n",
    "        optimizer.zero_grad()\n",
    "        \n",
    "        logps = model(images)\n",
    "        loss = criterion(logps, labels)\n",
    "        loss.backward()\n",
    "        optimizer.step()\n",
    "        \n",
    "        running_loss += loss.item()\n",
    "    \n",
    "    losses.append(running_loss/len(trainloader))"
   ]
  },
  {
   "cell_type": "code",
   "execution_count": null,
   "metadata": {
    "colab": {
     "base_uri": "https://localhost:8080/",
     "height": 292
    },
    "id": "xE9nVNWuRemX",
    "outputId": "4646318c-7fda-4301-f6dd-a44a8a87a4af"
   },
   "outputs": [
    {
     "data": {
      "image/png": "[encoded data removed]",
      "text/plain": [
       "<Figure size 1296x288 with 1 Axes>"
      ]
     },
     "metadata": {
      "needs_background": "light",
      "tags": []
     },
     "output_type": "display_data"
    }
   ],
   "source": [
    "import matplotlib.pyplot as plt\n",
    "fig, ax = plt.subplots(figsize=(18, 4), ncols=1)\n",
    "ax.plot(losses)\n",
    "ax.set_ylabel(\"Training loss\", size=16)\n",
    "ax.set_xlabel(\"Epoch\", size=18)\n",
    "plt.xticks(fontsize=16, rotation=0)\n",
    "plt.yticks(fontsize=16, rotation=0)\n",
    "fig.show()\n",
    "fig.savefig('./drive/My Drive/Colab Notebooks/'+\"loss.png\",dpi=300,bbox_inches=\"tight\",transparent=True)"
   ]
  },
  {
   "cell_type": "code",
   "execution_count": null,
   "metadata": {
    "id": "gVlHzgWrFT2o"
   },
   "outputs": [],
   "source": [
    "import matplotlib.pyplot as plt\n",
    "import numpy as np\n",
    "\n",
    "def view_classify(img, ps):\n",
    "    ''' Function for viewing an image and it's predicted classes.\n",
    "    '''\n",
    "    ps = ps.data.numpy().squeeze()\n",
    "    plt.tight_layout()\n",
    "    fig, (ax1, ax2) = plt.subplots(figsize=(10, 3), ncols=2)\n",
    "    ax1.imshow(img.resize_(1, 50, 50).numpy().squeeze())\n",
    "    ax1.axis('off')\n",
    "    ax2.barh(np.arange(2), ps)\n",
    "    ax2.set_aspect(0.1)\n",
    "    ax2.set_yticks(np.arange(2))\n",
    "    ax2.set_yticklabels([\"face_mask\", \"face_no_mask\"])\n",
    "    ax2.set_title('Class Probability')\n",
    "    ax2.set_xlim(0, 1.1)\n",
    "    return fig"
   ]
  },
  {
   "cell_type": "code",
   "execution_count": null,
   "metadata": {
    "colab": {
     "base_uri": "https://localhost:8080/",
     "height": 279
    },
    "id": "LbdrJB872Mfr",
    "outputId": "0d3d85d4-a1cf-43b2-d9d0-f5ebce60f489"
   },
   "outputs": [],
   "source": [
    "%matplotlib inline\n",
    "#images, labels = next(iter(trainloader))\n",
    "for index, (images, labels) in enumerate(trainloader):\n",
    "  if index == 2:\n",
    "    print(\"labels =\", labels)\n",
    "    break\n",
    "img = images[0].view(1, 2500)\n",
    "# Turn off gradients to speed up this part\n",
    "with torch.no_grad():\n",
    "    logps = model(img)\n",
    "\n",
    "# Output of the network are log-probabilities, need to take exponential for probabilities\n",
    "ps = torch.exp(logps)\n",
    "print(\"ps =\", ps)\n",
    "fig = view_classify(img.view(1, 50, 50), ps)\n",
    "fig.show()"
   ]
  },
  {
   "cell_type": "code",
   "execution_count": null,
   "metadata": {
    "colab": {
     "base_uri": "https://localhost:8080/"
    },
    "id": "UFbKq4M7FaxA",
    "outputId": "4436310b-c704-482c-fa4a-73141ac71118"
   },
   "outputs": [],
   "source": [
    "y_train = []\n",
    "pred_train = []\n",
    "for images, labels in trainloader:\n",
    "  for i in range(len(labels)):\n",
    "    y_train.append(labels[i])\n",
    "    with torch.no_grad():\n",
    "      logps = model(images[i].view(1, 2500))\n",
    "      pred_train.append(torch.exp(logps).numpy().argmax())"
   ]
  },
  {
   "cell_type": "code",
   "execution_count": null,
   "metadata": {
    "id": "RuSvx2mExxNV"
   },
   "outputs": [],
   "source": [
    "# This cell does not run on its own, it is just a trick to make the fonts larger without having those crossing lines\n",
    "from sklearn.metrics import confusion_matrix\n",
    "from sklearn.metrics import ConfusionMatrixDisplay\n",
    "from matplotlib import pyplot as plt\n",
    "import matplotlib\n",
    "\n",
    "def plot_confusion_matrix2(true_values, prediction_values):\n",
    "  matplotlib.rcParams['font.sans-serif'] = \"Arial\" # set default font to Arial\n",
    "  matplotlib.rcParams['font.family'] = \"sans-serif\" # ALWAYS use sans-serif fonts\n",
    "  matplotlib.rcParams['font.size'] = 16\n",
    "  fig, ax = plt.subplots()\n",
    "  cm = confusion_matrix(true_values, prediction_values)\n",
    "  tn, fp, fn, tp = cm.ravel()\n",
    "  print(\"TN:\",tn, \" FP:\", fp, \" FN:\", fn, \" TP:\", tp)\n",
    "  sns.set(font_scale=1.0) #edited as suggested\n",
    "  #sns.heatmap(cm, annot=True, ax=ax, cmap=\"Blues\", fmt=\"g\");  # annot=True to annotate cells\n",
    "  disp = ConfusionMatrixDisplay(confusion_matrix=cm, display_labels=[\"Mask\", \"No Mask\"])\n",
    "  disp.plot(cmap='GnBu', ax=ax)\n",
    "  title = 'Mask Detection Model'\n",
    "  ax.set_title(\"Densenet121\")\n",
    "  fig.show()\n",
    "  fig.savefig('./drive/My Drive/Colab Notebooks/'+\"confusion_matrix.pdf\",dpi=300,bbox_inches=\"tight\",transparent=True)\n",
    "\n",
    "plot_confusion_matrix2(y_train, pred_train)"
   ]
  },
  {
   "cell_type": "code",
   "execution_count": null,
   "metadata": {
    "colab": {
     "base_uri": "https://localhost:8080/",
     "height": 327
    },
    "id": "VbwH7PhCF7Vh",
    "outputId": "c019af4e-1459-4157-bfe3-b4baaf30366a"
   },
   "outputs": [
    {
     "name": "stdout",
     "output_type": "stream",
     "text": [
      "TN: 205  FP: 114  FN: 14  TP: 351\n"
     ]
    },
    {
     "data": {
      "image/png": "[encoded data removed]",
      "text/plain": [
       "<Figure size 432x288 with 2 Axes>"
      ]
     },
     "metadata": {
      "needs_background": "light",
      "tags": []
     },
     "output_type": "display_data"
    }
   ],
   "source": [
    "from sklearn.metrics import confusion_matrix\n",
    "from sklearn.metrics import plot_confusion_matrix\n",
    "from sklearn.metrics import ConfusionMatrixDisplay\n",
    "from matplotlib import pyplot as plt\n",
    "\n",
    "fig, ax = plt.subplots()\n",
    "    \n",
    "cm = confusion_matrix(y_train, pred_train)\n",
    "tn, fp, fn, tp = cm.ravel()\n",
    "print(\"TN:\",tn,\" FP:\",fp,\" FN:\",fn,\" TP:\",tp)\n",
    "disp = ConfusionMatrixDisplay(confusion_matrix=cm, display_labels=[\"Mask\",\"No Mask\"])\n",
    "disp.plot(cmap='GnBu',ax=ax)\n",
    "ax.set_title(\"Multi-Layer Perceptron\")\n",
    "fig.show()\n",
    "fig.savefig('./drive/My Drive/Colab Notebooks/'+\"confusion_matrix.png\",dpi=300,bbox_inches=\"tight\",transparent=True)"
   ]
  },
  {
   "cell_type": "code",
   "execution_count": null,
   "metadata": {
    "colab": {
     "base_uri": "https://localhost:8080/"
    },
    "id": "G3Gl7omKDk9u",
    "outputId": "c7296bd4-773b-4968-c5cd-ecde538b6c4a"
   },
   "outputs": [],
   "source": [
    "y_test = []\n",
    "pred_test = []\n",
    "for images, labels in testloader:\n",
    "  for i in range(len(labels)):\n",
    "    y_test.append(labels[i])\n",
    "    with torch.no_grad():\n",
    "      logps = model(images[i].view(1, 2500))\n",
    "      pred_test.append(torch.exp(logps).numpy().argmax())"
   ]
  },
  {
   "cell_type": "code",
   "execution_count": null,
   "metadata": {
    "colab": {
     "base_uri": "https://localhost:8080/",
     "height": 327
    },
    "id": "fN-vQ4f4gNAe",
    "outputId": "b06f6c93-4d44-4a96-dd70-2bee938cb2c7"
   },
   "outputs": [
    {
     "name": "stdout",
     "output_type": "stream",
     "text": [
      "TN: 65  FP: 49  FN: 8  TP: 111\n"
     ]
    },
    {
     "data": {
      "image/png": "[encoded data removed]",
      "text/plain": [
       "<Figure size 432x288 with 2 Axes>"
      ]
     },
     "metadata": {
      "needs_background": "light",
      "tags": []
     },
     "output_type": "display_data"
    }
   ],
   "source": [
    "from sklearn.metrics import confusion_matrix\n",
    "from sklearn.metrics import plot_confusion_matrix\n",
    "from sklearn.metrics import ConfusionMatrixDisplay\n",
    "from matplotlib import pyplot as plt\n",
    "\n",
    "fig, ax = plt.subplots()\n",
    "    \n",
    "cm = confusion_matrix(y_test, pred_test)\n",
    "tn, fp, fn, tp = cm.ravel()\n",
    "print(\"TN:\",tn,\" FP:\",fp,\" FN:\",fn,\" TP:\",tp)\n",
    "disp = ConfusionMatrixDisplay(confusion_matrix=cm, display_labels=[\"Mask\",\"No Mask\"])\n",
    "disp.plot(cmap='GnBu',ax=ax)\n",
    "ax.set_title(\"Multi-Layer Perceptron\")\n",
    "fig.show()\n",
    "fig.savefig('./drive/My Drive/Colab Notebooks/'+\"confusion_matrix.png\",dpi=300,bbox_inches=\"tight\",transparent=True)"
   ]
  },
  {
   "cell_type": "code",
   "execution_count": null,
   "metadata": {
    "colab": {
     "base_uri": "https://localhost:8080/"
    },
    "id": "DeDHOADEIOor",
    "outputId": "bcb2dd46-cb04-41d3-ddab-dbe6285f765e"
   },
   "outputs": [
    {
     "name": "stdout",
     "output_type": "stream",
     "text": [
      "              precision    recall  f1-score   support\n",
      "\n",
      "           0       0.89      0.57      0.70       114\n",
      "           1       0.69      0.93      0.80       119\n",
      "\n",
      "    accuracy                           0.76       233\n",
      "   macro avg       0.79      0.75      0.75       233\n",
      "weighted avg       0.79      0.76      0.75       233\n",
      "\n"
     ]
    }
   ],
   "source": [
    "from sklearn.metrics import classification_report\n",
    "print(classification_report(y_test, pred_test))"
   ]
  }
 ],
 "metadata": {
  "colab": {
   "collapsed_sections": [],
   "name": "Mask_ MLP.ipynb",
   "provenance": []
  },
  "kernelspec": {
   "display_name": "Python 3 (ipykernel)",
   "language": "python",
   "name": "python3"
  },
  "language_info": {
   "codemirror_mode": {
    "name": "ipython",
    "version": 3
   },
   "file_extension": ".py",
   "mimetype": "text/x-python",
   "name": "python",
   "nbconvert_exporter": "python",
   "pygments_lexer": "ipython3",
   "version": "3.9.7"
  }
 },
 "nbformat": 4,
 "nbformat_minor": 4
}
