{
  "nbformat": 4,
  "nbformat_minor": 0,
  "metadata": {
    "colab": {
      "name": "Myphoto_Mask_Pytorch_Transfer_learning.ipynb",
      "provenance": []
    },
    "kernelspec": {
      "name": "python3",
      "display_name": "Python 3"
    },
    "widgets": {
      "application/vnd.jupyter.widget-state+json": {
        "dc254f864b654f05b73ec56882e35e55": {
          "model_module": "@jupyter-widgets/controls",
          "model_name": "HBoxModel",
          "state": {
            "_view_name": "HBoxView",
            "_dom_classes": [],
            "_model_name": "HBoxModel",
            "_view_module": "@jupyter-widgets/controls",
            "_model_module_version": "1.5.0",
            "_view_count": null,
            "_view_module_version": "1.5.0",
            "box_style": "",
            "layout": "IPY_MODEL_9fbf79d7bdc240be8b41322d24ac534c",
            "_model_module": "@jupyter-widgets/controls",
            "children": [
              "IPY_MODEL_dbd2e264e7e447f78f7f6cda89304382",
              "IPY_MODEL_322eea4aac934d83bf9b74157626a947"
            ]
          }
        },
        "9fbf79d7bdc240be8b41322d24ac534c": {
          "model_module": "@jupyter-widgets/base",
          "model_name": "LayoutModel",
          "state": {
            "_view_name": "LayoutView",
            "grid_template_rows": null,
            "right": null,
            "justify_content": null,
            "_view_module": "@jupyter-widgets/base",
            "overflow": null,
            "_model_module_version": "1.2.0",
            "_view_count": null,
            "flex_flow": null,
            "width": null,
            "min_width": null,
            "border": null,
            "align_items": null,
            "bottom": null,
            "_model_module": "@jupyter-widgets/base",
            "top": null,
            "grid_column": null,
            "overflow_y": null,
            "overflow_x": null,
            "grid_auto_flow": null,
            "grid_area": null,
            "grid_template_columns": null,
            "flex": null,
            "_model_name": "LayoutModel",
            "justify_items": null,
            "grid_row": null,
            "max_height": null,
            "align_content": null,
            "visibility": null,
            "align_self": null,
            "height": null,
            "min_height": null,
            "padding": null,
            "grid_auto_rows": null,
            "grid_gap": null,
            "max_width": null,
            "order": null,
            "_view_module_version": "1.2.0",
            "grid_template_areas": null,
            "object_position": null,
            "object_fit": null,
            "grid_auto_columns": null,
            "margin": null,
            "display": null,
            "left": null
          }
        },
        "dbd2e264e7e447f78f7f6cda89304382": {
          "model_module": "@jupyter-widgets/controls",
          "model_name": "FloatProgressModel",
          "state": {
            "_view_name": "ProgressView",
            "style": "IPY_MODEL_1ea0599532e643ffa36777dd04e97552",
            "_dom_classes": [],
            "description": "100%",
            "_model_name": "FloatProgressModel",
            "bar_style": "success",
            "max": 32342954,
            "_view_module": "@jupyter-widgets/controls",
            "_model_module_version": "1.5.0",
            "value": 32342954,
            "_view_count": null,
            "_view_module_version": "1.5.0",
            "orientation": "horizontal",
            "min": 0,
            "description_tooltip": null,
            "_model_module": "@jupyter-widgets/controls",
            "layout": "IPY_MODEL_7b84fdd0323847b18c668cf4c4a2796f"
          }
        },
        "322eea4aac934d83bf9b74157626a947": {
          "model_module": "@jupyter-widgets/controls",
          "model_name": "HTMLModel",
          "state": {
            "_view_name": "HTMLView",
            "style": "IPY_MODEL_73a29a2c9b7640cfba1623e8c08e9f62",
            "_dom_classes": [],
            "description": "",
            "_model_name": "HTMLModel",
            "placeholder": "​",
            "_view_module": "@jupyter-widgets/controls",
            "_model_module_version": "1.5.0",
            "value": " 30.8M/30.8M [00:00&lt;00:00, 70.5MB/s]",
            "_view_count": null,
            "_view_module_version": "1.5.0",
            "description_tooltip": null,
            "_model_module": "@jupyter-widgets/controls",
            "layout": "IPY_MODEL_cd6419eef995489d8bbb06fee4a8f410"
          }
        },
        "1ea0599532e643ffa36777dd04e97552": {
          "model_module": "@jupyter-widgets/controls",
          "model_name": "ProgressStyleModel",
          "state": {
            "_view_name": "StyleView",
            "_model_name": "ProgressStyleModel",
            "description_width": "initial",
            "_view_module": "@jupyter-widgets/base",
            "_model_module_version": "1.5.0",
            "_view_count": null,
            "_view_module_version": "1.2.0",
            "bar_color": null,
            "_model_module": "@jupyter-widgets/controls"
          }
        },
        "7b84fdd0323847b18c668cf4c4a2796f": {
          "model_module": "@jupyter-widgets/base",
          "model_name": "LayoutModel",
          "state": {
            "_view_name": "LayoutView",
            "grid_template_rows": null,
            "right": null,
            "justify_content": null,
            "_view_module": "@jupyter-widgets/base",
            "overflow": null,
            "_model_module_version": "1.2.0",
            "_view_count": null,
            "flex_flow": null,
            "width": null,
            "min_width": null,
            "border": null,
            "align_items": null,
            "bottom": null,
            "_model_module": "@jupyter-widgets/base",
            "top": null,
            "grid_column": null,
            "overflow_y": null,
            "overflow_x": null,
            "grid_auto_flow": null,
            "grid_area": null,
            "grid_template_columns": null,
            "flex": null,
            "_model_name": "LayoutModel",
            "justify_items": null,
            "grid_row": null,
            "max_height": null,
            "align_content": null,
            "visibility": null,
            "align_self": null,
            "height": null,
            "min_height": null,
            "padding": null,
            "grid_auto_rows": null,
            "grid_gap": null,
            "max_width": null,
            "order": null,
            "_view_module_version": "1.2.0",
            "grid_template_areas": null,
            "object_position": null,
            "object_fit": null,
            "grid_auto_columns": null,
            "margin": null,
            "display": null,
            "left": null
          }
        },
        "73a29a2c9b7640cfba1623e8c08e9f62": {
          "model_module": "@jupyter-widgets/controls",
          "model_name": "DescriptionStyleModel",
          "state": {
            "_view_name": "StyleView",
            "_model_name": "DescriptionStyleModel",
            "description_width": "",
            "_view_module": "@jupyter-widgets/base",
            "_model_module_version": "1.5.0",
            "_view_count": null,
            "_view_module_version": "1.2.0",
            "_model_module": "@jupyter-widgets/controls"
          }
        },
        "cd6419eef995489d8bbb06fee4a8f410": {
          "model_module": "@jupyter-widgets/base",
          "model_name": "LayoutModel",
          "state": {
            "_view_name": "LayoutView",
            "grid_template_rows": null,
            "right": null,
            "justify_content": null,
            "_view_module": "@jupyter-widgets/base",
            "overflow": null,
            "_model_module_version": "1.2.0",
            "_view_count": null,
            "flex_flow": null,
            "width": null,
            "min_width": null,
            "border": null,
            "align_items": null,
            "bottom": null,
            "_model_module": "@jupyter-widgets/base",
            "top": null,
            "grid_column": null,
            "overflow_y": null,
            "overflow_x": null,
            "grid_auto_flow": null,
            "grid_area": null,
            "grid_template_columns": null,
            "flex": null,
            "_model_name": "LayoutModel",
            "justify_items": null,
            "grid_row": null,
            "max_height": null,
            "align_content": null,
            "visibility": null,
            "align_self": null,
            "height": null,
            "min_height": null,
            "padding": null,
            "grid_auto_rows": null,
            "grid_gap": null,
            "max_width": null,
            "order": null,
            "_view_module_version": "1.2.0",
            "grid_template_areas": null,
            "object_position": null,
            "object_fit": null,
            "grid_auto_columns": null,
            "margin": null,
            "display": null,
            "left": null
          }
        }
      }
    }
  },
  "cells": [
    {
      "cell_type": "code",
      "metadata": {
        "id": "8dnRbpbmAJoQ",
        "colab": {
          "base_uri": "https://localhost:8080/"
        },
        "outputId": "ee356dab-dbb0-4fea-a1e1-badcec8c69d7"
      },
      "source": [
        "import numpy as np \n",
        "import pandas as pd \n",
        "import os\n",
        "import matplotlib.pyplot as plt\n",
        "import cv2\n",
        "import matplotlib.patches as patches\n",
        "from tqdm import tqdm\n",
        "import torch\n",
        "\n",
        "from google.colab import drive\n",
        "drive.mount('/content/drive')\n",
        "!ls -a ./drive/My\\ Drive/Colab\\ Notebooks/yolo/images/train"
      ],
      "execution_count": 14,
      "outputs": [
        {
          "output_type": "stream",
          "text": [
            "Drive already mounted at /content/drive; to attempt to forcibly remount, call drive.mount(\"/content/drive\", force_remount=True).\n",
            "100.jpg  78.jpg\t\t    asian_mask23.jpg   crowd_mask178.jpg  new_19.jpg\n",
            "101.jpg  79.jpg\t\t    asian_mask243.jpg  crowd_mask179.jpg  new_1.jpg\n",
            "102.jpg  7.jpg\t\t    asian_mask245.jpg  crowd_mask181.jpg  new_200.jpg\n",
            "104.jpg  80.jpg\t\t    asian_mask246.jpg  crowd_mask182.jpg  new_201.jpg\n",
            "105.jpg  81.jpg\t\t    asian_mask247.jpg  crowd_mask189.jpg  new_203.jpg\n",
            "106.jpg  82.jpg\t\t    asian_mask250.jpg  crowd_mask194.jpg  new_204.jpg\n",
            "107.jpg  83.jpg\t\t    asian_mask251.jpg  crowd_mask195.jpg  new_205.jpg\n",
            "108.jpg  84.jpg\t\t    asian_mask252.jpg  crowd_mask196.jpg  new_206.jpg\n",
            "109.jpg  86.jpg\t\t    asian_mask253.jpg  crowd_mask198.jpg  new_207.jpg\n",
            "10.jpg\t 87.jpg\t\t    asian_mask254.jpg  crowd_mask19.jpg   new_208.jpg\n",
            "110.jpg  88.jpg\t\t    asian_mask255.jpg  crowd_mask23.jpg   new_209.jpg\n",
            "111.jpg  8.jpg\t\t    asian_mask256.jpg  crowd_mask24.jpg   new_20.jpg\n",
            "112.jpg  90.jpg\t\t    asian_mask257.jpg  crowd_mask25.jpg   new_210.jpg\n",
            "113.jpg  91.jpg\t\t    asian_mask258.jpg  crowd_mask27.jpg   new_211.jpg\n",
            "114.jpg  92.jpg\t\t    asian_mask259.jpg  crowd_mask28.jpg   new_212.jpg\n",
            "115.jpg  95.jpg\t\t    asian_mask25.jpg   crowd_mask2.jpg\t  new_213.jpg\n",
            "116.jpg  96.jpg\t\t    asian_mask260.jpg  crowd_mask31.jpg   new_214.jpg\n",
            "117.jpg  97.jpg\t\t    asian_mask261.jpg  crowd_mask34.jpg   new_215.jpg\n",
            "119.jpg  98.jpg\t\t    asian_mask262.jpg  crowd_mask35.jpg   new_216.jpg\n",
            "120.jpg  99.jpg\t\t    asian_mask263.jpg  crowd_mask38.jpg   new_217.jpg\n",
            "121.jpg  9.jpg\t\t    asian_mask265.jpg  crowd_mask39.jpg   new_218.jpg\n",
            "122.jpg  asian_mask0.jpg    asian_mask266.jpg  crowd_mask42.jpg   new_219.jpg\n",
            "123.jpg  asian_mask100.jpg  asian_mask267.jpg  crowd_mask45.jpg   new_21.jpg\n",
            "124.jpg  asian_mask101.jpg  asian_mask268.jpg  crowd_mask46.jpg   new_220.jpg\n",
            "125.jpg  asian_mask102.jpg  asian_mask269.jpg  crowd_mask49.jpg   new_221.jpg\n",
            "127.jpg  asian_mask103.jpg  asian_mask26.jpg   crowd_mask4.jpg\t  new_222.jpg\n",
            "128.jpg  asian_mask104.jpg  asian_mask270.jpg  crowd_mask53.jpg   new_223.jpg\n",
            "129.jpg  asian_mask105.jpg  asian_mask271.jpg  crowd_mask54.jpg   new_224.jpg\n",
            "12.jpg\t asian_mask106.jpg  asian_mask272.jpg  crowd_mask56.jpg   new_225.jpg\n",
            "130.jpg  asian_mask107.jpg  asian_mask274.jpg  crowd_mask59.jpg   new_226.jpg\n",
            "131.jpg  asian_mask109.jpg  asian_mask275.jpg  crowd_mask60.jpg   new_227.jpg\n",
            "132.jpg  asian_mask111.jpg  asian_mask276.jpg  crowd_mask61.jpg   new_228.jpg\n",
            "133.jpg  asian_mask112.jpg  asian_mask277.jpg  crowd_mask62.jpg   new_229.jpg\n",
            "134.jpg  asian_mask113.jpg  asian_mask278.jpg  crowd_mask63.jpg   new_22.jpg\n",
            "135.jpg  asian_mask114.jpg  asian_mask279.jpg  crowd_mask64.jpg   new_230.jpg\n",
            "137.jpg  asian_mask115.jpg  asian_mask27.jpg   crowd_mask65.jpg   new_231.jpg\n",
            "138.jpg  asian_mask116.jpg  asian_mask280.jpg  crowd_mask66.jpg   new_232.jpg\n",
            "139.jpg  asian_mask117.jpg  asian_mask282.jpg  crowd_mask69.jpg   new_233.jpg\n",
            "13.jpg\t asian_mask118.jpg  asian_mask283.jpg  crowd_mask73.jpg   new_234.jpg\n",
            "140.jpg  asian_mask119.jpg  asian_mask284.jpg  crowd_mask74.jpg   new_235.jpg\n",
            "141.jpg  asian_mask11.jpg   asian_mask285.jpg  crowd_mask75.jpg   new_236.jpg\n",
            "142.jpg  asian_mask121.jpg  asian_mask286.jpg  crowd_mask77.jpg   new_237.jpg\n",
            "143.jpg  asian_mask122.jpg  asian_mask288.jpg  crowd_mask78.jpg   new_238.jpg\n",
            "144.jpg  asian_mask123.jpg  asian_mask289.jpg  crowd_mask83.jpg   new_239.jpg\n",
            "146.jpg  asian_mask124.jpg  asian_mask28.jpg   crowd_mask88.jpg   new_23.jpg\n",
            "147.jpg  asian_mask125.jpg  asian_mask290.jpg  crowd_mask89.jpg   new_241.jpg\n",
            "148.jpg  asian_mask126.jpg  asian_mask291.jpg  crowd_mask90.jpg   new_242.jpg\n",
            "149.jpg  asian_mask127.jpg  asian_mask292.jpg  crowd_mask91.jpg   new_243.jpg\n",
            "14.jpg\t asian_mask128.jpg  asian_mask293.jpg  crowd_mask94.jpg   new_244.jpg\n",
            "150.jpg  asian_mask130.jpg  asian_mask295.jpg  crowd_mask95.jpg   new_245.jpg\n",
            "151.jpg  asian_mask131.jpg  asian_mask296.jpg  crowd_mask98.jpg   new_246.jpg\n",
            "152.jpg  asian_mask133.jpg  asian_mask298.jpg  crowd_mask9.jpg\t  new_247.jpg\n",
            "153.jpg  asian_mask134.jpg  asian_mask299.jpg  new_0.jpg\t  new_248.jpg\n",
            "154.jpg  asian_mask135.jpg  asian_mask30.jpg   new_100.jpg\t  new_249.jpg\n",
            "155.jpg  asian_mask137.jpg  asian_mask32.jpg   new_101.jpg\t  new_24.jpg\n",
            "156.jpg  asian_mask138.jpg  asian_mask33.jpg   new_102.jpg\t  new_250.jpg\n",
            "157.jpg  asian_mask139.jpg  asian_mask35.jpg   new_104.jpg\t  new_251.jpg\n",
            "158.jpg  asian_mask13.jpg   asian_mask36.jpg   new_105.jpg\t  new_252.jpg\n",
            "159.jpg  asian_mask140.jpg  asian_mask37.jpg   new_106.jpg\t  new_253.jpg\n",
            "15.jpg\t asian_mask141.jpg  asian_mask38.jpg   new_107.jpg\t  new_254.jpg\n",
            "160.jpg  asian_mask142.jpg  asian_mask39.jpg   new_108.jpg\t  new_255.jpg\n",
            "161.jpg  asian_mask143.jpg  asian_mask40.jpg   new_10.jpg\t  new_256.jpg\n",
            "163.jpg  asian_mask144.jpg  asian_mask41.jpg   new_110.jpg\t  new_257.jpg\n",
            "164.jpg  asian_mask145.jpg  asian_mask42.jpg   new_111.jpg\t  new_258.jpg\n",
            "165.jpg  asian_mask146.jpg  asian_mask44.jpg   new_112.jpg\t  new_259.jpg\n",
            "166.jpg  asian_mask147.jpg  asian_mask45.jpg   new_113.jpg\t  new_25.jpg\n",
            "167.jpg  asian_mask148.jpg  asian_mask46.jpg   new_114.jpg\t  new_260.jpg\n",
            "168.jpg  asian_mask149.jpg  asian_mask47.jpg   new_115.jpg\t  new_261.jpg\n",
            "169.jpg  asian_mask14.jpg   asian_mask48.jpg   new_116.jpg\t  new_262.jpg\n",
            "16.jpg\t asian_mask150.jpg  asian_mask49.jpg   new_117.jpg\t  new_263.jpg\n",
            "170.jpg  asian_mask152.jpg  asian_mask4.jpg    new_118.jpg\t  new_264.jpg\n",
            "171.jpg  asian_mask153.jpg  asian_mask50.jpg   new_119.jpg\t  new_265.jpg\n",
            "172.jpg  asian_mask154.jpg  asian_mask51.jpg   new_11.jpg\t  new_266.jpg\n",
            "173.jpg  asian_mask155.jpg  asian_mask52.jpg   new_120.jpg\t  new_267.jpg\n",
            "174.jpg  asian_mask156.jpg  asian_mask54.jpg   new_121.jpg\t  new_268.jpg\n",
            "175.jpg  asian_mask158.jpg  asian_mask55.jpg   new_122.jpg\t  new_269.jpg\n",
            "176.jpg  asian_mask159.jpg  asian_mask56.jpg   new_123.jpg\t  new_26.jpg\n",
            "177.jpg  asian_mask15.jpg   asian_mask57.jpg   new_124.jpg\t  new_27.jpg\n",
            "178.jpg  asian_mask160.jpg  asian_mask58.jpg   new_125.jpg\t  new_28.jpg\n",
            "179.jpg  asian_mask161.jpg  asian_mask59.jpg   new_126.jpg\t  new_29.jpg\n",
            "180.jpg  asian_mask162.jpg  asian_mask5.jpg    new_127.jpg\t  new_2.jpg\n",
            "181.jpg  asian_mask163.jpg  asian_mask60.jpg   new_128.jpg\t  new_30.jpg\n",
            "182.jpg  asian_mask164.jpg  asian_mask61.jpg   new_129.jpg\t  new_31.jpg\n",
            "186.jpg  asian_mask165.jpg  asian_mask62.jpg   new_12.jpg\t  new_32.jpg\n",
            "189.jpg  asian_mask166.jpg  asian_mask63.jpg   new_130.jpg\t  new_33.jpg\n",
            "18.jpg\t asian_mask167.jpg  asian_mask65.jpg   new_131.jpg\t  new_34.jpg\n",
            "190.jpg  asian_mask168.jpg  asian_mask66.jpg   new_132.jpg\t  new_35.jpg\n",
            "191.jpg  asian_mask16.jpg   asian_mask67.jpg   new_133.jpg\t  new_36.jpg\n",
            "192.jpg  asian_mask170.jpg  asian_mask68.jpg   new_134.jpg\t  new_37.jpg\n",
            "193.jpg  asian_mask172.jpg  asian_mask69.jpg   new_135.jpg\t  new_38.jpg\n",
            "194.jpg  asian_mask173.jpg  asian_mask6.jpg    new_137.jpg\t  new_39.jpg\n",
            "195.jpg  asian_mask174.jpg  asian_mask70.jpg   new_138.jpg\t  new_40.jpg\n",
            "196.jpg  asian_mask175.jpg  asian_mask71.jpg   new_139.jpg\t  new_41.jpg\n",
            "197.jpg  asian_mask176.jpg  asian_mask72.jpg   new_13.jpg\t  new_42.jpg\n",
            "198.jpg  asian_mask177.jpg  asian_mask73.jpg   new_140.jpg\t  new_43.jpg\n",
            "199.jpg  asian_mask178.jpg  asian_mask74.jpg   new_141.jpg\t  new_44.jpg\n",
            "19.jpg\t asian_mask179.jpg  asian_mask75.jpg   new_142.jpg\t  new_45.jpg\n",
            "20.jpg\t asian_mask180.jpg  asian_mask76.jpg   new_143.jpg\t  new_46.jpg\n",
            "21.jpg\t asian_mask181.jpg  asian_mask78.jpg   new_144.jpg\t  new_47.jpg\n",
            "22.jpg\t asian_mask182.jpg  asian_mask79.jpg   new_145.jpg\t  new_48.jpg\n",
            "23.jpg\t asian_mask184.jpg  asian_mask83.jpg   new_146.jpg\t  new_49.jpg\n",
            "24.jpg\t asian_mask185.jpg  asian_mask84.jpg   new_147.jpg\t  new_4.jpg\n",
            "25.jpg\t asian_mask186.jpg  asian_mask85.jpg   new_149.jpg\t  new_50.jpg\n",
            "26.jpg\t asian_mask187.jpg  asian_mask86.jpg   new_14.jpg\t  new_51.jpg\n",
            "28.jpg\t asian_mask188.jpg  asian_mask87.jpg   new_150.jpg\t  new_52.jpg\n",
            "29.jpg\t asian_mask189.jpg  asian_mask88.jpg   new_151.jpg\t  new_53.jpg\n",
            "30.jpg\t asian_mask190.jpg  asian_mask89.jpg   new_152.jpg\t  new_55.jpg\n",
            "31.jpg\t asian_mask191.jpg  asian_mask8.jpg    new_153.jpg\t  new_56.jpg\n",
            "32.jpg\t asian_mask192.jpg  asian_mask90.jpg   new_154.jpg\t  new_57.jpg\n",
            "33.jpg\t asian_mask193.jpg  asian_mask91.jpg   new_155.jpg\t  new_58.jpg\n",
            "34.jpg\t asian_mask194.jpg  asian_mask94.jpg   new_157.jpg\t  new_59.jpg\n",
            "36.jpg\t asian_mask195.jpg  asian_mask95.jpg   new_158.jpg\t  new_5.jpg\n",
            "37.jpg\t asian_mask196.jpg  asian_mask96.jpg   new_159.jpg\t  new_60.jpg\n",
            "38.jpg\t asian_mask197.jpg  asian_mask97.jpg   new_15.jpg\t  new_61.jpg\n",
            "39.jpg\t asian_mask198.jpg  asian_mask99.jpg   new_160.jpg\t  new_63.jpg\n",
            "40.jpg\t asian_mask199.jpg  asian_mask9.jpg    new_161.jpg\t  new_64.jpg\n",
            "41.jpg\t asian_mask19.jpg   crowd_mask0.jpg    new_162.jpg\t  new_65.jpg\n",
            "42.jpg\t asian_mask200.jpg  crowd_mask101.jpg  new_163.jpg\t  new_66.jpg\n",
            "43.jpg\t asian_mask201.jpg  crowd_mask102.jpg  new_164.jpg\t  new_67.jpg\n",
            "44.jpg\t asian_mask202.jpg  crowd_mask107.jpg  new_165.jpg\t  new_68.jpg\n",
            "45.jpg\t asian_mask203.jpg  crowd_mask109.jpg  new_166.jpg\t  new_69.jpg\n",
            "46.jpg\t asian_mask204.jpg  crowd_mask111.jpg  new_168.jpg\t  new_6.jpg\n",
            "47.jpg\t asian_mask206.jpg  crowd_mask112.jpg  new_169.jpg\t  new_70.jpg\n",
            "48.jpg\t asian_mask207.jpg  crowd_mask113.jpg  new_16.jpg\t  new_72.jpg\n",
            "49.jpg\t asian_mask208.jpg  crowd_mask117.jpg  new_170.jpg\t  new_73.jpg\n",
            "4.jpg\t asian_mask209.jpg  crowd_mask119.jpg  new_171.jpg\t  new_75.jpg\n",
            "50.jpg\t asian_mask20.jpg   crowd_mask120.jpg  new_172.jpg\t  new_76.jpg\n",
            "51.jpg\t asian_mask210.jpg  crowd_mask121.jpg  new_173.jpg\t  new_77.jpg\n",
            "52.jpg\t asian_mask211.jpg  crowd_mask124.jpg  new_174.jpg\t  new_78.jpg\n",
            "53.jpg\t asian_mask212.jpg  crowd_mask127.jpg  new_175.jpg\t  new_79.jpg\n",
            "54.jpg\t asian_mask213.jpg  crowd_mask130.jpg  new_176.jpg\t  new_7.jpg\n",
            "55.jpg\t asian_mask214.jpg  crowd_mask131.jpg  new_177.jpg\t  new_80.jpg\n",
            "56.jpg\t asian_mask215.jpg  crowd_mask132.jpg  new_178.jpg\t  new_81.jpg\n",
            "58.jpg\t asian_mask216.jpg  crowd_mask134.jpg  new_179.jpg\t  new_82.jpg\n",
            "59.jpg\t asian_mask217.jpg  crowd_mask137.jpg  new_17.jpg\t  new_83.jpg\n",
            "60.jpg\t asian_mask21.jpg   crowd_mask139.jpg  new_180.jpg\t  new_84.jpg\n",
            "61.jpg\t asian_mask220.jpg  crowd_mask13.jpg   new_181.jpg\t  new_85.jpg\n",
            "62.jpg\t asian_mask221.jpg  crowd_mask140.jpg  new_182.jpg\t  new_86.jpg\n",
            "63.jpg\t asian_mask222.jpg  crowd_mask141.jpg  new_183.jpg\t  new_87.jpg\n",
            "64.jpg\t asian_mask223.jpg  crowd_mask142.jpg  new_184.jpg\t  new_88.jpg\n",
            "65.jpg\t asian_mask224.jpg  crowd_mask146.jpg  new_185.jpg\t  new_89.jpg\n",
            "66.jpg\t asian_mask225.jpg  crowd_mask150.jpg  new_186.jpg\t  new_8.jpg\n",
            "67.jpg\t asian_mask226.jpg  crowd_mask152.jpg  new_187.jpg\t  new_91.jpg\n",
            "68.jpg\t asian_mask227.jpg  crowd_mask155.jpg  new_188.jpg\t  new_92.jpg\n",
            "69.jpg\t asian_mask229.jpg  crowd_mask157.jpg  new_189.jpg\t  new_93.jpg\n",
            "6.jpg\t asian_mask22.jpg   crowd_mask158.jpg  new_18.jpg\t  new_94.jpg\n",
            "70.jpg\t asian_mask230.jpg  crowd_mask160.jpg  new_191.jpg\t  new_96.jpg\n",
            "71.jpg\t asian_mask232.jpg  crowd_mask161.jpg  new_192.jpg\t  new_97.jpg\n",
            "72.jpg\t asian_mask233.jpg  crowd_mask162.jpg  new_193.jpg\t  new_98.jpg\n",
            "73.jpg\t asian_mask234.jpg  crowd_mask163.jpg  new_194.jpg\t  new_99.jpg\n",
            "74.jpg\t asian_mask235.jpg  crowd_mask167.jpg  new_196.jpg\t  new_9.jpg\n",
            "75.jpg\t asian_mask236.jpg  crowd_mask16.jpg   new_197.jpg\t  subimages\n",
            "76.jpg\t asian_mask237.jpg  crowd_mask170.jpg  new_198.jpg\n",
            "77.jpg\t asian_mask238.jpg  crowd_mask175.jpg  new_199.jpg\n"
          ],
          "name": "stdout"
        }
      ]
    },
    {
      "cell_type": "markdown",
      "metadata": {
        "id": "zggC55zbkz-c"
      },
      "source": [
        "## Prepare Train Data:"
      ]
    },
    {
      "cell_type": "markdown",
      "metadata": {
        "id": "3oNHDu2Ajqd1"
      },
      "source": [
        "We first read file names:"
      ]
    },
    {
      "cell_type": "code",
      "metadata": {
        "id": "Ax8Gu-i7pnhc"
      },
      "source": [
        "images_directory = os.path.join(\"./drive/My Drive/Colab Notebooks/yolo/images\")\n",
        "labels_directory = os.path.join(\"./drive/My Drive/Colab Notebooks/yolo/labels\")\n",
        "train_images = os.listdir(images_directory + \"/train\")\n",
        "train_images.sort()"
      ],
      "execution_count": 15,
      "outputs": []
    },
    {
      "cell_type": "markdown",
      "metadata": {
        "id": "d0ZT1GahtsC0"
      },
      "source": [
        "Next we make a copy of the files into mask and no_mask folders:"
      ]
    },
    {
      "cell_type": "code",
      "metadata": {
        "id": "eJ3lrSJfJZaB",
        "colab": {
          "base_uri": "https://localhost:8080/"
        },
        "outputId": "816d742a-cff0-4a80-96bd-adcab941411c"
      },
      "source": [
        "import shutil\n",
        "\n",
        "for train_image in tqdm(train_images):\n",
        "  train_label = train_image.split(\".\")[0] + \".txt\"\n",
        "  if train_image != \"subimages\":\n",
        "    f = open(labels_directory + \"/train/\" + train_label, \"r+\")\n",
        "    f_read = (f.read().replace(\"\\n\", \"\")).split(\" \")\n",
        "    if len(f_read) > 5:\n",
        "      continue    # For now, we skip the images with more than one mask\n",
        "    classname = int(f_read[0])\n",
        "    source = images_directory + \"/train/\" + train_image\n",
        "    if classname == 0:\n",
        "      distination = images_directory + \"/train/subimages/mask/\" + train_image\n",
        "      if not os.path.exists(distination):\n",
        "        shutil.copyfile(source, distination)\n",
        "    elif classname == 1:\n",
        "      distination = images_directory + \"/train/subimages/no_mask/\" + train_image\n",
        "      if not os.path.exists(distination):\n",
        "        shutil.copyfile(source, distination)\n",
        "  else:\n",
        "    pass"
      ],
      "execution_count": 16,
      "outputs": [
        {
          "output_type": "stream",
          "text": [
            "100%|██████████| 768/768 [05:35<00:00,  2.29it/s]\n"
          ],
          "name": "stderr"
        }
      ]
    },
    {
      "cell_type": "markdown",
      "metadata": {
        "id": "K5_EXpDJRgKg"
      },
      "source": [
        "## Prepare Validation Data:"
      ]
    },
    {
      "cell_type": "markdown",
      "metadata": {
        "id": "N0afO73sRozb"
      },
      "source": [
        "We first read file names:"
      ]
    },
    {
      "cell_type": "code",
      "metadata": {
        "id": "cE0xivM6Ruy_"
      },
      "source": [
        "images_directory = os.path.join(\"./drive/My Drive/Colab Notebooks/yolo/images\")\n",
        "labels_directory = os.path.join(\"./drive/My Drive/Colab Notebooks/yolo/labels\")\n",
        "valid_images = os.listdir(images_directory + \"/valid\")\n",
        "valid_images.sort()"
      ],
      "execution_count": 17,
      "outputs": []
    },
    {
      "cell_type": "markdown",
      "metadata": {
        "id": "OHOoO-4bt6HN"
      },
      "source": [
        "Next we make a copy of the files into mask and no_mask folders:"
      ]
    },
    {
      "cell_type": "code",
      "metadata": {
        "id": "fCRiXQzxVqz0",
        "colab": {
          "base_uri": "https://localhost:8080/"
        },
        "outputId": "78333a3a-c89f-4f2b-cb8a-4dd5bd16e71e"
      },
      "source": [
        "import shutil\n",
        "\n",
        "for valid_image in tqdm(valid_images):\n",
        "  valid_label = valid_image.split(\".\")[0] + \".txt\"\n",
        "  if valid_image != \"subimages\":\n",
        "    f = open(labels_directory + \"/valid/\" + valid_label, \"r+\")\n",
        "    f_read = (f.read().replace(\"\\n\", \"\")).split(\" \")\n",
        "    if len(f_read) > 5:\n",
        "      continue    # For now, we skip the images with more than one mask\n",
        "    classname = int(f_read[0])\n",
        "    source = images_directory + \"/valid/\" + valid_image\n",
        "    if classname == 0:\n",
        "      distination = images_directory + \"/valid/subimages/mask/\" + valid_image\n",
        "      if not os.path.exists(distination):\n",
        "        shutil.copyfile(source, distination)\n",
        "    elif classname == 1:\n",
        "      distination = images_directory + \"/valid/subimages/no_mask/\" + valid_image\n",
        "      if not os.path.exists(distination):\n",
        "        shutil.copyfile(source, distination)\n",
        "  else:\n",
        "    pass"
      ],
      "execution_count": 19,
      "outputs": [
        {
          "output_type": "stream",
          "text": [
            "100%|██████████| 259/259 [01:18<00:00,  3.29it/s]\n"
          ],
          "name": "stderr"
        }
      ]
    },
    {
      "cell_type": "markdown",
      "metadata": {
        "id": "KsEMc2A6wSbV"
      },
      "source": [
        "Prepare Test Data:"
      ]
    },
    {
      "cell_type": "code",
      "metadata": {
        "id": "NrVl02pCwRRZ"
      },
      "source": [
        "images_directory = os.path.join(\"./drive/My Drive/Colab Notebooks/yolo/images\")\n",
        "test_images = os.listdir(images_directory + \"/test\")\n",
        "test_images.sort()"
      ],
      "execution_count": 20,
      "outputs": []
    },
    {
      "cell_type": "markdown",
      "metadata": {
        "id": "H9p2TyypR6IC"
      },
      "source": [
        "## Building Data Flow:"
      ]
    },
    {
      "cell_type": "code",
      "metadata": {
        "id": "No7tpLMj187z"
      },
      "source": [
        "from torchvision import datasets, transforms, models\n",
        "from torch import nn"
      ],
      "execution_count": 21,
      "outputs": []
    },
    {
      "cell_type": "code",
      "metadata": {
        "id": "KGG83zZn2JGv"
      },
      "source": [
        "train_transforms = transforms.Compose([transforms.Resize((224, 224)),\n",
        "                                       transforms.ToTensor()])\n",
        "valid_transforms = transforms.Compose([transforms.Resize((224, 224)),\n",
        "                                       transforms.ToTensor()])\n",
        "train_data = datasets.ImageFolder(images_directory + \"/train/subimages\",\n",
        "                                  transform=train_transforms)\n",
        "valid_data = datasets.ImageFolder(images_directory + \"/valid/subimages\",\n",
        "                                  transform=valid_transforms)\n",
        "trainloader = torch.utils.data.DataLoader(train_data, batch_size=64, shuffle=True)\n",
        "validloader = torch.utils.data.DataLoader(valid_data, batch_size=64)"
      ],
      "execution_count": 22,
      "outputs": []
    },
    {
      "cell_type": "code",
      "metadata": {
        "id": "4quQoXx0xP4P"
      },
      "source": [
        "\n",
        "test_transforms = transforms.Compose([transforms.Resize((224, 224)),\n",
        "                                       transforms.ToTensor()])\n",
        "test_data = datasets.ImageFolder(images_directory + \"/test/subimages\",\n",
        "                                  transform=test_transforms)\n",
        "testloader = torch.utils.data.DataLoader(test_data, batch_size=10)"
      ],
      "execution_count": 23,
      "outputs": []
    },
    {
      "cell_type": "markdown",
      "metadata": {
        "id": "438z4qQpZk5D"
      },
      "source": [
        "## Building Transfer Learning Model:"
      ]
    },
    {
      "cell_type": "code",
      "metadata": {
        "id": "YEXCRBzp0JP4",
        "colab": {
          "base_uri": "https://localhost:8080/",
          "height": 83,
          "referenced_widgets": [
            "dc254f864b654f05b73ec56882e35e55",
            "9fbf79d7bdc240be8b41322d24ac534c",
            "dbd2e264e7e447f78f7f6cda89304382",
            "322eea4aac934d83bf9b74157626a947",
            "1ea0599532e643ffa36777dd04e97552",
            "7b84fdd0323847b18c668cf4c4a2796f",
            "73a29a2c9b7640cfba1623e8c08e9f62",
            "cd6419eef995489d8bbb06fee4a8f410"
          ]
        },
        "outputId": "a59d7ae8-f8ad-4184-b387-095409ad7451"
      },
      "source": [
        "# Use GPU if it's available\n",
        "device = torch.device(\"cuda\" if torch.cuda.is_available() else \"cpu\")\n",
        "\n",
        "model = models.densenet121(pretrained=True)\n",
        "\n",
        "# Freeze parameters so we don't backprop through them\n",
        "for param in model.parameters():\n",
        "    param.requires_grad = False\n",
        "    \n",
        "model.classifier = nn.Sequential(nn.Linear(1024, 256),\n",
        "                                 nn.ReLU(),\n",
        "                                 nn.Dropout(0.2),\n",
        "                                 nn.Linear(256, 2),\n",
        "                                 nn.LogSoftmax(dim=1))\n",
        "\n",
        "criterion = nn.NLLLoss() #negative log likelihood\n",
        "\n",
        "# Only train the classifier parameters, feature parameters are frozen\n",
        "optimizer = torch.optim.Adam(model.classifier.parameters(), lr=0.003)\n",
        "\n",
        "model.to(device);"
      ],
      "execution_count": 24,
      "outputs": [
        {
          "output_type": "stream",
          "text": [
            "Downloading: \"https://download.pytorch.org/models/densenet121-a639ec97.pth\" to /root/.cache/torch/hub/checkpoints/densenet121-a639ec97.pth\n"
          ],
          "name": "stderr"
        },
        {
          "output_type": "display_data",
          "data": {
            "application/vnd.jupyter.widget-view+json": {
              "model_id": "dc254f864b654f05b73ec56882e35e55",
              "version_minor": 0,
              "version_major": 2
            },
            "text/plain": [
              "HBox(children=(FloatProgress(value=0.0, max=32342954.0), HTML(value='')))"
            ]
          },
          "metadata": {
            "tags": []
          }
        },
        {
          "output_type": "stream",
          "text": [
            "\n"
          ],
          "name": "stdout"
        }
      ]
    },
    {
      "cell_type": "markdown",
      "metadata": {
        "id": "SzeoaXHiqrF_"
      },
      "source": [
        "## Training the Model:"
      ]
    },
    {
      "cell_type": "code",
      "metadata": {
        "id": "oJja-y0y0JP4",
        "colab": {
          "base_uri": "https://localhost:8080/"
        },
        "outputId": "395dcf97-779b-489d-9957-0482343cea32"
      },
      "source": [
        "epochs = 2\n",
        "steps = 0\n",
        "running_loss = 0\n",
        "print_every = 5\n",
        "for epoch in tqdm(range(epochs)):\n",
        "    for images, labels in trainloader:\n",
        "        steps += 1\n",
        "        # Move input and label tensors to the default device\n",
        "        images, labels = images.to(device), labels.to(device)\n",
        "        \n",
        "        optimizer.zero_grad()\n",
        "        \n",
        "        logps = model.forward(images)\n",
        "        loss = criterion(logps, labels)\n",
        "        loss.backward()\n",
        "        optimizer.step()\n",
        "\n",
        "        running_loss += loss.item()\n",
        "        \n",
        "        if steps % print_every == 0:\n",
        "            valid_loss = 0\n",
        "            accuracy = 0\n",
        "            model.eval()\n",
        "            with torch.no_grad():\n",
        "                for images, labels in validloader:\n",
        "                    images, labels = images.to(device), labels.to(device)\n",
        "                    logps = model.forward(images)\n",
        "                    batch_loss = criterion(logps, labels)\n",
        "                    \n",
        "                    valid_loss += batch_loss.item()\n",
        "                    \n",
        "                    # Calculate accuracy\n",
        "                    ps = torch.exp(logps)\n",
        "                    top_p, top_class = ps.topk(1, dim=1)\n",
        "                    equals = top_class == labels.view(*top_class.shape)\n",
        "                    accuracy += torch.mean(equals.type(torch.FloatTensor)).item()\n",
        "                    \n",
        "            print(f\"Epoch {epoch+1}/{epochs}.. \"\n",
        "                  f\"Train loss: {running_loss/print_every:.3f}.. \"\n",
        "                  f\"Validation loss: {valid_loss/len(validloader):.3f}.. \"\n",
        "                  f\"Validation accuracy: {accuracy/len(validloader):.3f}\")\n",
        "            running_loss = 0\n",
        "            model.train()"
      ],
      "execution_count": 25,
      "outputs": [
        {
          "output_type": "stream",
          "text": [
            "\r  0%|          | 0/2 [00:00<?, ?it/s]"
          ],
          "name": "stderr"
        },
        {
          "output_type": "stream",
          "text": [
            "Epoch 1/2.. Train loss: 0.662.. Validation loss: 0.404.. Validation accuracy: 0.785\n",
            "Epoch 1/2.. Train loss: 0.580.. Validation loss: 0.390.. Validation accuracy: 0.771\n"
          ],
          "name": "stdout"
        },
        {
          "output_type": "stream",
          "text": [
            "\r 50%|█████     | 1/2 [04:02<04:02, 242.23s/it]"
          ],
          "name": "stderr"
        },
        {
          "output_type": "stream",
          "text": [
            "Epoch 2/2.. Train loss: 0.267.. Validation loss: 0.155.. Validation accuracy: 0.938\n",
            "Epoch 2/2.. Train loss: 0.199.. Validation loss: 0.308.. Validation accuracy: 0.868\n"
          ],
          "name": "stdout"
        },
        {
          "output_type": "stream",
          "text": [
            "100%|██████████| 2/2 [08:03<00:00, 241.91s/it]\n"
          ],
          "name": "stderr"
        }
      ]
    },
    {
      "cell_type": "markdown",
      "metadata": {
        "id": "etyGNHtpqy09"
      },
      "source": [
        "## Inference and Plotting:"
      ]
    },
    {
      "cell_type": "code",
      "metadata": {
        "id": "gVlHzgWrFT2o"
      },
      "source": [
        "import matplotlib.pyplot as plt\n",
        "import numpy as np\n",
        "\n",
        "def view_classify(img, ps):\n",
        "    ''' Function for viewing an image and it's predicted classes.\n",
        "    '''\n",
        "    ps = ps.data.numpy().squeeze()\n",
        "    plt.tight_layout()\n",
        "    fig, (ax1, ax2) = plt.subplots(figsize=(10, 3), ncols=2)\n",
        "    ax1.imshow(img.permute(1, 2, 0))\n",
        "    ax1.axis('off')\n",
        "    ax2.barh(np.arange(2), ps)\n",
        "    ax2.set_aspect(0.1)\n",
        "    ax2.set_yticks(np.arange(2))\n",
        "    ax2.set_yticklabels([\"face_mask\", \"face_no_mask\"])\n",
        "    ax2.set_title('Class Probability')\n",
        "    ax2.set_xlim(0, 1.1)\n",
        "    return fig"
      ],
      "execution_count": 26,
      "outputs": []
    },
    {
      "cell_type": "code",
      "metadata": {
        "id": "LbdrJB872Mfr"
      },
      "source": [
        "%matplotlib inline\n",
        "#images, labels = next(iter(trainloader))\n",
        "for index, (images, labels) in enumerate(trainloader):\n",
        "  if index == 2:\n",
        "    break\n",
        "# img = images[0].view(1, 2500)\n",
        "# Turn off gradients to speed up this part\n",
        "with torch.no_grad():\n",
        "    logps = model.forward(images)\n",
        "\n",
        "# Output of the network are log-probabilities, need to take exponential for probabilities\n",
        "ps = torch.exp(logps)"
      ],
      "execution_count": 27,
      "outputs": []
    },
    {
      "cell_type": "code",
      "metadata": {
        "colab": {
          "base_uri": "https://localhost:8080/",
          "height": 228
        },
        "id": "SYfGSRo0pOB0",
        "outputId": "5142dd75-51c3-49ab-97d7-f1369f0d7735"
      },
      "source": [
        "print(\"Example Training Image\")\n",
        "fig = view_classify(images[2], ps[2])\n",
        "fig.show()"
      ],
      "execution_count": 28,
      "outputs": [
        {
          "output_type": "stream",
          "text": [
            "Example Training Image\n"
          ],
          "name": "stdout"
        },
        {
          "output_type": "display_data",
          "data": {
            "text/plain": [
              "<Figure size 432x288 with 0 Axes>"
            ]
          },
          "metadata": {
            "tags": []
          }
        },
        {
          "output_type": "display_data",
          "data": {
            "image/png": "[encoded data removed]",
            "text/plain": [
              "<Figure size 720x216 with 2 Axes>"
            ]
          },
          "metadata": {
            "tags": [],
            "needs_background": "light"
          }
        }
      ]
    },
    {
      "cell_type": "markdown",
      "metadata": {
        "id": "f6H5k2R1zEOe"
      },
      "source": [
        "Example Test Image"
      ]
    },
    {
      "cell_type": "code",
      "metadata": {
        "id": "KwLH9_KIzDJB"
      },
      "source": [
        "%matplotlib inline\n",
        "#images, labels = next(iter(trainloader))\n",
        "for index, (images, labels) in enumerate(testloader):\n",
        "  if index == 2:\n",
        "    break\n",
        "# img = images[0].view(1, 2500)\n",
        "# Turn off gradients to speed up this part\n",
        "with torch.no_grad():\n",
        "    logps = model.forward(images)\n",
        "\n",
        "# Output of the network are log-probabilities, need to take exponential for probabilities\n",
        "ps = torch.exp(logps)"
      ],
      "execution_count": 29,
      "outputs": []
    },
    {
      "cell_type": "code",
      "metadata": {
        "id": "DZS70fMYzZqY",
        "colab": {
          "base_uri": "https://localhost:8080/",
          "height": 228
        },
        "outputId": "320854fc-db54-48e9-8f33-c917e52929dc"
      },
      "source": [
        "print(\"Example Test Image\")\n",
        "fig = view_classify(images[0], ps[0])\n",
        "fig.show()"
      ],
      "execution_count": 30,
      "outputs": [
        {
          "output_type": "stream",
          "text": [
            "Example Test Image\n"
          ],
          "name": "stdout"
        },
        {
          "output_type": "display_data",
          "data": {
            "text/plain": [
              "<Figure size 432x288 with 0 Axes>"
            ]
          },
          "metadata": {
            "tags": []
          }
        },
        {
          "output_type": "display_data",
          "data": {
            "image/png": "[encoded data removed]",
            "text/plain": [
              "<Figure size 720x216 with 2 Axes>"
            ]
          },
          "metadata": {
            "tags": [],
            "needs_background": "light"
          }
        }
      ]
    },
    {
      "cell_type": "markdown",
      "metadata": {
        "id": "Gn7-9tMCq5n0"
      },
      "source": [
        "## Plotting the Confusion Matrix:"
      ]
    },
    {
      "cell_type": "code",
      "metadata": {
        "id": "4AWIc6__sRcW"
      },
      "source": [
        "from sklearn.metrics import confusion_matrix\n",
        "from sklearn.metrics import plot_confusion_matrix\n",
        "from sklearn.metrics import ConfusionMatrixDisplay\n",
        "from matplotlib import pyplot as plt\n",
        "\n",
        "def plot_confusion_matrix(true_values, prediction_values):\n",
        "  fig, ax = plt.subplots()\n",
        "  cm = confusion_matrix(true_values, prediction_values)\n",
        "  tn, fp, fn, tp = cm.ravel()\n",
        "  print(\"TN:\",tn, \" FP:\", fp, \" FN:\", fn, \" TP:\", tp)\n",
        "  disp = ConfusionMatrixDisplay(confusion_matrix=cm, display_labels=[\"Mask\", \"No Mask\"])\n",
        "  disp.plot(cmap='GnBu', ax=ax)\n",
        "  ax.set_title(\"densenet121\")\n",
        "  plt.show()"
      ],
      "execution_count": 31,
      "outputs": []
    },
    {
      "cell_type": "markdown",
      "metadata": {
        "id": "ddSiUnlDscpM"
      },
      "source": [
        "Let us first plot the confusion matrix on the train dataset:"
      ]
    },
    {
      "cell_type": "code",
      "metadata": {
        "colab": {
          "base_uri": "https://localhost:8080/"
        },
        "id": "cRT8_NDCql0k",
        "outputId": "93016dfa-67bd-4187-b64f-876af9ad21b6"
      },
      "source": [
        "y_train = []\n",
        "pred_train = []\n",
        "model.eval()\n",
        "with torch.no_grad():\n",
        "  for images, labels in trainloader:\n",
        "    images, labels = images.to(device), labels.to(device)\n",
        "    logps = model.forward(images)\n",
        "    ps = torch.exp(logps)\n",
        "    for i, p in enumerate(ps.numpy()):\n",
        "      y_train.append(labels[i])\n",
        "      pred_train.append(p.argmax())\n",
        "print(\"len(y_train) =\", len(y_train))\n",
        "print(\"len(pred_train) =\", len(pred_train))"
      ],
      "execution_count": 32,
      "outputs": [
        {
          "output_type": "stream",
          "text": [
            "len(y_train) = 684\n",
            "len(pred_train) = 684\n"
          ],
          "name": "stdout"
        }
      ]
    },
    {
      "cell_type": "code",
      "metadata": {
        "colab": {
          "base_uri": "https://localhost:8080/",
          "height": 312
        },
        "id": "Ye1JIJA9s9sy",
        "outputId": "e0412d9f-1db4-4977-8b4d-35ac4ff5f167"
      },
      "source": [
        "plot_confusion_matrix(true_values=y_train, prediction_values=pred_train)"
      ],
      "execution_count": 33,
      "outputs": [
        {
          "output_type": "stream",
          "text": [
            "TN: 319  FP: 0  FN: 28  TP: 337\n"
          ],
          "name": "stdout"
        },
        {
          "output_type": "display_data",
          "data": {
            "image/png": "[encoded data removed]",
            "text/plain": [
              "<Figure size 432x288 with 2 Axes>"
            ]
          },
          "metadata": {
            "tags": [],
            "needs_background": "light"
          }
        }
      ]
    },
    {
      "cell_type": "markdown",
      "metadata": {
        "id": "cAglBJQotFWY"
      },
      "source": [
        "Now we plot for the validation dataset:"
      ]
    },
    {
      "cell_type": "code",
      "metadata": {
        "colab": {
          "base_uri": "https://localhost:8080/"
        },
        "id": "BA0iYBrItOaC",
        "outputId": "ad075cd4-d1cf-4ff8-960c-22a1b6847206"
      },
      "source": [
        "y_valid = []\n",
        "pred_valid = []\n",
        "model.eval()\n",
        "with torch.no_grad():\n",
        "  for images, labels in validloader:\n",
        "    images, labels = images.to(device), labels.to(device)\n",
        "    logps = model.forward(images)\n",
        "    ps = torch.exp(logps)\n",
        "    for i, p in enumerate(ps.numpy()):\n",
        "      y_valid.append(labels[i])\n",
        "      pred_valid.append(p.argmax())\n",
        "print(\"len(y_valid) =\", len(y_valid))\n",
        "print(\"len(pred_valid) =\", len(pred_valid))"
      ],
      "execution_count": 34,
      "outputs": [
        {
          "output_type": "stream",
          "text": [
            "len(y_valid) = 231\n",
            "len(pred_valid) = 231\n"
          ],
          "name": "stdout"
        }
      ]
    },
    {
      "cell_type": "code",
      "metadata": {
        "colab": {
          "base_uri": "https://localhost:8080/",
          "height": 312
        },
        "id": "uylCPAAwtgD9",
        "outputId": "5550d95e-cf22-4bdc-8d8c-53a6fb639609"
      },
      "source": [
        "plot_confusion_matrix(true_values=y_valid, prediction_values=pred_valid)"
      ],
      "execution_count": 35,
      "outputs": [
        {
          "output_type": "stream",
          "text": [
            "TN: 111  FP: 0  FN: 8  TP: 112\n"
          ],
          "name": "stdout"
        },
        {
          "output_type": "display_data",
          "data": {
            "image/png": "[encoded data removed]",
            "text/plain": [
              "<Figure size 432x288 with 2 Axes>"
            ]
          },
          "metadata": {
            "tags": [],
            "needs_background": "light"
          }
        }
      ]
    },
    {
      "cell_type": "code",
      "metadata": {
        "colab": {
          "base_uri": "https://localhost:8080/"
        },
        "id": "fOSkg2q0reQB",
        "outputId": "449fac96-df1d-4f79-d7c3-f64329672a2d"
      },
      "source": [
        "from sklearn.metrics import classification_report\n",
        "print(classification_report(y_valid, pred_valid))"
      ],
      "execution_count": 36,
      "outputs": [
        {
          "output_type": "stream",
          "text": [
            "              precision    recall  f1-score   support\n",
            "\n",
            "           0       0.93      1.00      0.97       111\n",
            "           1       1.00      0.93      0.97       120\n",
            "\n",
            "    accuracy                           0.97       231\n",
            "   macro avg       0.97      0.97      0.97       231\n",
            "weighted avg       0.97      0.97      0.97       231\n",
            "\n"
          ],
          "name": "stdout"
        }
      ]
    }
  ]
}